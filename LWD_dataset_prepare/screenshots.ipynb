{
 "cells": [
  {
   "cell_type": "code",
   "id": "initial_id",
   "metadata": {
    "collapsed": true,
    "ExecuteTime": {
     "end_time": "2024-11-19T06:45:35.746513Z",
     "start_time": "2024-11-19T06:45:34.593904Z"
    }
   },
   "source": [
    "from PIL import Image\n",
    "import os\n",
    "\n",
    "def resize_images(input_folder, output_folder, target_width):\n",
    "    os.makedirs(output_folder, exist_ok=True)\n",
    "    \n",
    "    i = 0\n",
    "    for filename in os.listdir(input_folder):\n",
    "        file_path = os.path.join(input_folder, filename)\n",
    "        \n",
    "        if os.path.isfile(file_path):\n",
    "            with Image.open(file_path) as img:\n",
    "                new_height = int(target_width * img.height / img.width)\n",
    "                resized_img = img.resize((target_width, new_height))\n",
    "                \n",
    "                output_path = os.path.join(output_folder, str(i) + \".png\")\n",
    "                resized_img.save(output_path)\n",
    "                i += 1\n",
    "\n",
    "# Example usage\n",
    "input_folder = \"./screenshots_1\"\n",
    "output_folder = \"./images_1\"\n",
    "target_width = 128  # Change to the desired width\n",
    "resize_images(input_folder, output_folder, target_width)"
   ],
   "outputs": [],
   "execution_count": 6
  },
  {
   "metadata": {
    "ExecuteTime": {
     "end_time": "2024-11-19T06:45:43.377012Z",
     "start_time": "2024-11-19T06:45:42.500810Z"
    }
   },
   "cell_type": "code",
   "source": [
    "from PIL import Image\n",
    "import os\n",
    "\n",
    "def crop_images(input_folder, output_folder, target_height):\n",
    "    # Create the output folder if it doesn't exist\n",
    "    os.makedirs(output_folder, exist_ok=True)\n",
    "    \n",
    "    k = 0\n",
    "    for filename in os.listdir(input_folder):\n",
    "        file_path = os.path.join(input_folder, filename)\n",
    "        \n",
    "        if os.path.isfile(file_path):\n",
    "            with Image.open(file_path) as img:\n",
    "                img_width, img_height = img.size\n",
    "                full_sections = img_height // target_height\n",
    "                remainder_height = img_height % target_height\n",
    "                \n",
    "                for i in range(full_sections):\n",
    "                    upper = i * target_height\n",
    "                    lower = upper + target_height\n",
    "                    cropped_img = img.crop((0, upper, img_width, lower))\n",
    "                    cropped_img.save(os.path.join(output_folder, str(k) + \".png\"))\n",
    "                    k += 1\n",
    "                \n",
    "                # crop from the bottom\n",
    "                if remainder_height > 0:\n",
    "                    upper = img_height - target_height\n",
    "                    lower = img_height\n",
    "                    cropped_img = img.crop((0, upper, img_width, lower))\n",
    "                    cropped_img.save(os.path.join(output_folder, str(k) + \".png\"))\n",
    "                    k += 1\n",
    "\n",
    "# Example usage\n",
    "input_folder = \"./images_1\"\n",
    "output_folder = \"./crop_images_1\"\n",
    "target_height = 128  # Change to the desired height\n",
    "crop_images(input_folder, output_folder, target_height)"
   ],
   "id": "883543256c6aba37",
   "outputs": [],
   "execution_count": 7
  },
  {
   "metadata": {
    "ExecuteTime": {
     "end_time": "2024-10-28T20:41:49.887941Z",
     "start_time": "2024-10-28T20:41:49.881631Z"
    }
   },
   "cell_type": "code",
   "source": [
    "from PIL import Image\n",
    "img = Image.open(\"./crop_images/1.png\")\n",
    "print(img.size)"
   ],
   "id": "b66f80f19168b0bb",
   "outputs": [
    {
     "name": "stdout",
     "output_type": "stream",
     "text": [
      "(128, 128)\n"
     ]
    }
   ],
   "execution_count": 5
  },
  {
   "metadata": {},
   "cell_type": "code",
   "outputs": [],
   "execution_count": null,
   "source": "",
   "id": "bccd8cc4a7b682d2"
  }
 ],
 "metadata": {
  "kernelspec": {
   "display_name": "Python 3",
   "language": "python",
   "name": "python3"
  },
  "language_info": {
   "codemirror_mode": {
    "name": "ipython",
    "version": 2
   },
   "file_extension": ".py",
   "mimetype": "text/x-python",
   "name": "python",
   "nbconvert_exporter": "python",
   "pygments_lexer": "ipython2",
   "version": "2.7.6"
  }
 },
 "nbformat": 4,
 "nbformat_minor": 5
}
